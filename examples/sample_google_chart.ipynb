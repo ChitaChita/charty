{
 "cells": [
  {
   "cell_type": "code",
   "execution_count": 1,
   "metadata": {},
   "outputs": [
    {
     "data": {
      "text/plain": [
       "#<Charty::Plotter:0x00007fc44239a540 @plotter_adapter=#<Charty::GoogleChart:0x00007fc4440b3780>>"
      ]
     },
     "execution_count": 1,
     "metadata": {},
     "output_type": "execute_result"
    }
   ],
   "source": [
    "require 'charty'\n",
    "charty = Charty::Plotter.new(:google_chart)"
   ]
  },
  {
   "cell_type": "code",
   "execution_count": 2,
   "metadata": {},
   "outputs": [
    {
     "data": {
      "text/html": [
       "          <script type='text/javascript' src='https://www.gstatic.com/charts/loader.js'></script>\n",
       "          <script type=\"text/javascript\">\n",
       "            google.charts.load(\"current\", {packages:[\"corechart\"]});\n",
       "            google.charts.setOnLoadCallback(drawChart);\n",
       "            function drawChart() {\n",
       "              const data = google.visualization.arrayToDataTable(\n",
       "                [[\"foo\", \"\", \"\"], [\"0\", 10, 30], [\"1\", 20, 40], [\"2\", 70, 50], [\"4\", 60, \"null\"]]\n",
       "              );\n",
       "\n",
       "              const view = new google.visualization.DataView(data);\n",
       "\n",
       "              const options = {\n",
       "                title: \"this is the title\",\n",
       "                vAxis: {\n",
       "                  title: \"bara\",\n",
       "                  viewWindow: {\n",
       "                    max: null,\n",
       "                    min: null,\n",
       "                  },\n",
       "                },\n",
       "                hAxis: {\n",
       "                  title: \"foo\",\n",
       "                  viewWindow: {\n",
       "                    max: null,\n",
       "                    min: null,\n",
       "                  }\n",
       "                },\n",
       "                legend: { position: \"none\" },\n",
       "              };\n",
       "              const chart = new google.visualization.BarChart(document.getElementById(\"BarChart-1\"));\n",
       "              chart.draw(view, options);\n",
       "            }\n",
       "          </script>\n",
       "          <div id=\"BarChart-1\" style=\"width: 900px; height: 300px;\"></div>\n"
      ],
      "text/plain": [
       "\"          <script type='text/javascript' src='https://www.gstatic.com/charts/loader.js'></script>\\n          <script type=\\\"text/javascript\\\">\\n            google.charts.load(\\\"current\\\", {packages:[\\\"corechart\\\"]});\\n            google.charts.setOnLoadCallback(drawChart);\\n            function drawChart() {\\n              const data = google.visualization.arrayToDataTable(\\n                [[\\\"foo\\\", \\\"\\\", \\\"\\\"], [\\\"0\\\", 10, 30], [\\\"1\\\", 20, 40], [\\\"2\\\", 70, 50], [\\\"4\\\", 60, \\\"null\\\"]]\\n              );\\n\\n              const view = new google.visualization.DataView(data);\\n\\n              const options = {\\n                title: \\\"this is the title\\\",\\n                vAxis: {\\n                  title: \\\"bara\\\",\\n                  viewWindow: {\\n                    max: null,\\n                    min: null,\\n                  },\\n                },\\n                hAxis: {\\n                  title: \\\"foo\\\",\\n                  viewWindow: {\\n                    max: null,\\n                    min: null,\\n                  }\\n                },\\n                legend: { position: \\\"none\\\" },\\n              };\\n              const chart = new google.visualization.BarChart(document.getElementById(\\\"BarChart-1\\\"));\\n              chart.draw(view, options);\\n            }\\n          </script>\\n          <div id=\\\"BarChart-1\\\" style=\\\"width: 900px; height: 300px;\\\"></div>\\n\""
      ]
     },
     "metadata": {},
     "output_type": "display_data"
    },
    {
     "data": {
      "text/plain": [
       "#<CZTop::Socket::PUB:0x7fc4430de3c0 last_endpoint=\"tcp://127.0.0.1:49318\">"
      ]
     },
     "execution_count": 2,
     "metadata": {},
     "output_type": "execute_result"
    }
   ],
   "source": [
    "bar = charty.bar do\n",
    "  xlabel 'foo'\n",
    "  ylabel 'bara'\n",
    "  series [0, 1, 4,  2], [10, 20, 60, 70]\n",
    "  series [0, 1, 2], [30, 40, 50]\n",
    "  title 'this is the title'\n",
    "end\n",
    "IRuby.display(IRuby.html(bar.render))"
   ]
  },
  {
   "cell_type": "code",
   "execution_count": 3,
   "metadata": {},
   "outputs": [
    {
     "data": {
      "text/html": [
       "          <script type='text/javascript' src='https://www.gstatic.com/charts/loader.js'></script>\n",
       "          <script type=\"text/javascript\">\n",
       "            google.charts.load(\"current\", {packages:[\"corechart\"]});\n",
       "            google.charts.setOnLoadCallback(drawChart);\n",
       "            function drawChart() {\n",
       "              const data = google.visualization.arrayToDataTable(\n",
       "                [[\"\", \"sample1\", \"sample2\", \"\"], [\"0\", 0.0, 0.0, 0], [\"1\", 0.1, 0.2, -0.1], [\"2\", 0.2, 0.4, -0.5], [\"3\", 0.30000000000000004, 0.6000000000000001, -0.5], [\"4\", 0.4, 0.8, 0.1], [\"5\", 0.5, 1.0, \"null\"], [\"6\", 0.6000000000000001, \"null\", \"null\"], [\"7\", 0.7000000000000001, \"null\", \"null\"], [\"8\", 0.8, \"null\", \"null\"], [\"9\", 0.9, \"null\", \"null\"], [\"10\", 1.0, \"null\", \"null\"]]\n",
       "              );\n",
       "\n",
       "              const view = new google.visualization.DataView(data);\n",
       "\n",
       "              const options = {\n",
       "                title: \"scatter sample\",\n",
       "                vAxis: {\n",
       "                  title: \"y label\",\n",
       "                  viewWindow: {\n",
       "                    max: null,\n",
       "                    min: null,\n",
       "                  },\n",
       "                },\n",
       "                hAxis: {\n",
       "                  title: \"\",\n",
       "                  viewWindow: {\n",
       "                    max: null,\n",
       "                    min: null,\n",
       "                  }\n",
       "                },\n",
       "                legend: { position: \"none\" },\n",
       "              };\n",
       "              const chart = new google.visualization.ScatterChart(document.getElementById(\"ScatterChart-2\"));\n",
       "              chart.draw(view, options);\n",
       "            }\n",
       "          </script>\n",
       "          <div id=\"ScatterChart-2\" style=\"width: 900px; height: 300px;\"></div>\n"
      ],
      "text/plain": [
       "\"          <script type='text/javascript' src='https://www.gstatic.com/charts/loader.js'></script>\\n          <script type=\\\"text/javascript\\\">\\n            google.charts.load(\\\"current\\\", {packages:[\\\"corechart\\\"]});\\n            google.charts.setOnLoadCallback(drawChart);\\n            function drawChart() {\\n              const data = google.visualization.arrayToDataTable(\\n                [[\\\"\\\", \\\"sample1\\\", \\\"sample2\\\", \\\"\\\"], [\\\"0\\\", 0.0, 0.0, 0], [\\\"1\\\", 0.1, 0.2, -0.1], [\\\"2\\\", 0.2, 0.4, -0.5], [\\\"3\\\", 0.30000000000000004, 0.6000000000000001, -0.5], [\\\"4\\\", 0.4, 0.8, 0.1], [\\\"5\\\", 0.5, 1.0, \\\"null\\\"], [\\\"6\\\", 0.6000000000000001, \\\"null\\\", \\\"null\\\"], [\\\"7\\\", 0.7000000000000001, \\\"null\\\", \\\"null\\\"], [\\\"8\\\", 0.8, \\\"null\\\", \\\"null\\\"], [\\\"9\\\", 0.9, \\\"null\\\", \\\"null\\\"], [\\\"10\\\", 1.0, \\\"null\\\", \\\"null\\\"]]\\n              );\\n\\n              const view = new google.visualization.DataView(data);\\n\\n              const options = {\\n                title: \\\"scatter sample\\\",\\n                vAxis: {\\n                  title: \\\"y label\\\",\\n                  viewWindow: {\\n                    max: null,\\n                    min: null,\\n                  },\\n                },\\n                hAxis: {\\n                  title: \\\"\\\",\\n                  viewWindow: {\\n                    max: null,\\n                    min: null,\\n                  }\\n                },\\n                legend: { position: \\\"none\\\" },\\n              };\\n              const chart = new google.visualization.ScatterChart(document.getElementById(\\\"ScatterChart-2\\\"));\\n              chart.draw(view, options);\\n            }\\n          </script>\\n          <div id=\\\"ScatterChart-2\\\" style=\\\"width: 900px; height: 300px;\\\"></div>\\n\""
      ]
     },
     "metadata": {},
     "output_type": "display_data"
    },
    {
     "data": {
      "text/plain": [
       "#<CZTop::Socket::PUB:0x7fc4430de3c0 last_endpoint=\"tcp://127.0.0.1:49318\">"
      ]
     },
     "execution_count": 3,
     "metadata": {},
     "output_type": "execute_result"
    }
   ],
   "source": [
    "scatter = charty.scatter do\n",
    "  series 0..10, (0..1).step(0.1), label: 'sample1'\n",
    "  series 0..5, (0..1).step(0.2), label: 'sample2'\n",
    "  series [0, 1, 2, 3, 4], [0, -0.1, -0.5, -0.5, 0.1]\n",
    "  ylabel 'y label'\n",
    "  title 'scatter sample'\n",
    "end\n",
    "IRuby.display(IRuby.html(scatter.render))"
   ]
  },
  {
   "cell_type": "code",
   "execution_count": 4,
   "metadata": {},
   "outputs": [
    {
     "data": {
      "text/html": [
       "          <script type='text/javascript' src='https://www.gstatic.com/charts/loader.js'></script>\n",
       "          <script type=\"text/javascript\">\n",
       "            google.charts.load(\"current\", {packages:[\"corechart\"]});\n",
       "            google.charts.setOnLoadCallback(drawChart);\n",
       "            function drawChart() {\n",
       "              const data = google.visualization.arrayToDataTable(\n",
       "                [[\"ID\", \"X\", \"Y\", \"GROUP\", \"SIZE\"], [\"\", 0, 0.0, \"sample1\", 10], [\"\", 1, 0.1, \"sample1\", 100], [\"\", 2, 0.2, \"sample1\", 1000], [\"\", 3, 0.30000000000000004, \"sample1\", 20], [\"\", 4, 0.4, \"sample1\", 200], [\"\", 5, 0.5, \"sample1\", 2000], [\"\", 6, 0.6000000000000001, \"sample1\", 5], [\"\", 7, 0.7000000000000001, \"sample1\", 50], [\"\", 8, 0.8, \"sample1\", 500], [\"\", 9, 0.9, \"sample1\", 4], [\"\", 10, 1.0, \"sample1\", 40], [\"\", 0, 0.0, \"sample2\", 1], [\"\", 1, 0.2, \"sample2\", 10], [\"\", 2, 0.4, \"sample2\", 100], [\"\", 3, 0.6000000000000001, \"sample2\", 1000], [\"\", 4, 0.8, \"sample2\", 500], [\"\", 5, 1.0, \"sample2\", 100], [\"\", 0, 0, 2, 40], [\"\", 1, -0.1, 2, 30], [\"\", 2, -0.5, 2, 200], [\"\", 3, -0.5, 2, 10], [\"\", 4, 0.1, 2, 5]]\n",
       "              );\n",
       "\n",
       "              const view = new google.visualization.DataView(data);\n",
       "\n",
       "              const options = {\n",
       "                title: \"bubble sample\",\n",
       "                vAxis: {\n",
       "                  title: \"y label\",\n",
       "                  viewWindow: {\n",
       "                    max: 1,\n",
       "                    min: -1,\n",
       "                  },\n",
       "                },\n",
       "                hAxis: {\n",
       "                  title: \"x label\",\n",
       "                  viewWindow: {\n",
       "                    max: 10,\n",
       "                    min: 0,\n",
       "                  }\n",
       "                },\n",
       "                legend: { position: \"none\" },\n",
       "              };\n",
       "              const chart = new google.visualization.BubbleChart(document.getElementById(\"BubbleChart-3\"));\n",
       "              chart.draw(view, options);\n",
       "            }\n",
       "          </script>\n",
       "          <div id=\"BubbleChart-3\" style=\"width: 900px; height: 300px;\"></div>\n"
      ],
      "text/plain": [
       "\"          <script type='text/javascript' src='https://www.gstatic.com/charts/loader.js'></script>\\n          <script type=\\\"text/javascript\\\">\\n            google.charts.load(\\\"current\\\", {packages:[\\\"corechart\\\"]});\\n            google.charts.setOnLoadCallback(drawChart);\\n            function drawChart() {\\n              const data = google.visualization.arrayToDataTable(\\n                [[\\\"ID\\\", \\\"X\\\", \\\"Y\\\", \\\"GROUP\\\", \\\"SIZE\\\"], [\\\"\\\", 0, 0.0, \\\"sample1\\\", 10], [\\\"\\\", 1, 0.1, \\\"sample1\\\", 100], [\\\"\\\", 2, 0.2, \\\"sample1\\\", 1000], [\\\"\\\", 3, 0.30000000000000004, \\\"sample1\\\", 20], [\\\"\\\", 4, 0.4, \\\"sample1\\\", 200], [\\\"\\\", 5, 0.5, \\\"sample1\\\", 2000], [\\\"\\\", 6, 0.6000000000000001, \\\"sample1\\\", 5], [\\\"\\\", 7, 0.7000000000000001, \\\"sample1\\\", 50], [\\\"\\\", 8, 0.8, \\\"sample1\\\", 500], [\\\"\\\", 9, 0.9, \\\"sample1\\\", 4], [\\\"\\\", 10, 1.0, \\\"sample1\\\", 40], [\\\"\\\", 0, 0.0, \\\"sample2\\\", 1], [\\\"\\\", 1, 0.2, \\\"sample2\\\", 10], [\\\"\\\", 2, 0.4, \\\"sample2\\\", 100], [\\\"\\\", 3, 0.6000000000000001, \\\"sample2\\\", 1000], [\\\"\\\", 4, 0.8, \\\"sample2\\\", 500], [\\\"\\\", 5, 1.0, \\\"sample2\\\", 100], [\\\"\\\", 0, 0, 2, 40], [\\\"\\\", 1, -0.1, 2, 30], [\\\"\\\", 2, -0.5, 2, 200], [\\\"\\\", 3, -0.5, 2, 10], [\\\"\\\", 4, 0.1, 2, 5]]\\n              );\\n\\n              const view = new google.visualization.DataView(data);\\n\\n              const options = {\\n                title: \\\"bubble sample\\\",\\n                vAxis: {\\n                  title: \\\"y label\\\",\\n                  viewWindow: {\\n                    max: 1,\\n                    min: -1,\\n                  },\\n                },\\n                hAxis: {\\n                  title: \\\"x label\\\",\\n                  viewWindow: {\\n                    max: 10,\\n                    min: 0,\\n                  }\\n                },\\n                legend: { position: \\\"none\\\" },\\n              };\\n              const chart = new google.visualization.BubbleChart(document.getElementById(\\\"BubbleChart-3\\\"));\\n              chart.draw(view, options);\\n            }\\n          </script>\\n          <div id=\\\"BubbleChart-3\\\" style=\\\"width: 900px; height: 300px;\\\"></div>\\n\""
      ]
     },
     "metadata": {},
     "output_type": "display_data"
    },
    {
     "data": {
      "text/plain": [
       "#<CZTop::Socket::PUB:0x7fc4430de3c0 last_endpoint=\"tcp://127.0.0.1:49318\">"
      ]
     },
     "execution_count": 4,
     "metadata": {},
     "output_type": "execute_result"
    }
   ],
   "source": [
    "bubble = charty.bubble do\n",
    "  series 0..10, (0..1).step(0.1), [10, 100, 1000, 20, 200, 2000, 5, 50, 500, 4, 40], label: 'sample1'\n",
    "  series 0..5, (0..1).step(0.2), [1, 10, 100, 1000, 500, 100], label: 'sample2'\n",
    "  series [0, 1, 2, 3, 4], [0, -0.1, -0.5, -0.5, 0.1], [40, 30, 200, 10, 5]\n",
    "  range x: 0..10, y: -1..1\n",
    "  xlabel 'x label'\n",
    "  ylabel 'y label'\n",
    "  title 'bubble sample'\n",
    "end\n",
    "IRuby.display(IRuby.html(bubble.render))"
   ]
  },
  {
   "cell_type": "code",
   "execution_count": null,
   "metadata": {},
   "outputs": [],
   "source": []
  }
 ],
 "metadata": {
  "kernelspec": {
   "display_name": "Ruby 2.5.5",
   "language": "ruby",
   "name": "ruby"
  },
  "language_info": {
   "file_extension": ".rb",
   "mimetype": "application/x-ruby",
   "name": "ruby",
   "version": "2.5.5"
  }
 },
 "nbformat": 4,
 "nbformat_minor": 2
}
